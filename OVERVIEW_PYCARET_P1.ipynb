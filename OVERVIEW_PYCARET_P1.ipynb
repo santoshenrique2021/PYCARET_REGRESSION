{
 "cells": [
  {
   "cell_type": "markdown",
   "id": "a3dc4e0e-5190-4fef-8ef3-f2081f505edb",
   "metadata": {},
   "source": [
    "# PyCaret aplicado a problemas de regressão (Parte 1)"
   ]
  },
  {
   "cell_type": "markdown",
   "id": "7b46eb84-316c-4abe-b959-a29b249eadbc",
   "metadata": {},
   "source": [
    "## 1 - Sobre mim\n",
    "\n",
    "1. Eu sou Henrique Santos e trabalho como analista de crédito e prevenção à fraude de uma empresa de telecomunicações chamada [DESKTOP](https://www.desktop.com.br/). \n",
    "\n",
    "2. Minha formação acadêmica:\n",
    "   * **Graduação**: Ciências econômicas (UFPE - Universidade Federal de Pernambuco);\n",
    "   * **Mestrado**: Engenharia de produção (UFPE);\n",
    "   * **Doutorado**: Biometria e estatística aplicada (UFRPE - Universidade Federal Rural de Pernambuco).\n",
    "\n",
    "3. Atuação profissional:\n",
    "    * Desde 2020, trabalho na área de ciência de dados, tanto na análise e construção de indicadores-chave de desempenho quanto na modelagem preditiva. Minha expertise profissional é a modelagem de *credit scoring*, abrangendo todas as etapas do ciclo crédito, com um foco em empresas de telecomunicações. \n",
    "\n",
    "### Contato\n",
    "1. E-mail: santos.henrique624@gmail.com\n",
    "2. Github: https://github.com/santoshenrique2021\n",
    "3. Linkedin: https://www.linkedin.com/in/henriquesantos2021/"
   ]
  },
  {
   "cell_type": "markdown",
   "id": "0e1de32b-a19f-4029-a6fb-d0349d4b688a",
   "metadata": {},
   "source": [
    "## 2 - PyCaret\n",
    "\n",
    "O PyCaret é uma biblioteca de *machine learning* (aprendizado de máquina) em Python que apresenta uma interface amigável, utiliza poucas linhas de código (*low-code machine learning library*) e automatiza o *workflow* (é o processo sistemático de desenvolver, treinar, avaliar e colocar em produção os modelos de aprendizado de máquina).  É uma ferramenta abrangente, pois desenvolve e gerencia modelos, acelerando significativamente o ciclo de experimentação e aumentando a produtividade. Além disso, ela funciona como um invólucro para outras bibliotecas do Python (integrando com Pandas, NumPy e Scikit-Learn).\n",
    "\n",
    "### Diretriz\n",
    "\n",
    "Menos linhas de código e mais tempo dedicado a análise de resultados e definição de estratégias.\n",
    "\n",
    "### Estrutura\n",
    "\n",
    "O design do Pycaret é definido através de módulos. Cada um executa uma executa uma tarefa no ciclo de aprendizado de máquina.\n",
    "\n",
    "### Abrangência:\n",
    "\n",
    "1. **Regressão** (foco da apresentação);\n",
    "2. Classificação;\n",
    "3. Análise de cluster;\n",
    "4. Séries temporais;\n",
    "5. Detecção de anomalias.\n",
    "\n",
    "### Documentação oficial\n",
    "\n",
    "* https://pycaret.readthedocs.io/en/stable/\n",
    "\n",
    "### Perspectiva acadêmica\n",
    "\n",
    "Publicações acadêmicas que utilizaram esta biblioteca em problemas de *machine learning*:\n",
    "\n",
    "1. https://www.sciencedirect.com/science/article/pii/S2405844024014373 - artigo que estima o tempo de um paciente cardiopata na UTI após a cirugia cardiaca (2024).\n",
    "2. https://www.sciencedirect.com/science/article/abs/pii/S0030402623003698 - artigo que prediz o nível de radiação (2024).\n",
    "3. https://www.sciencedirect.com/science/article/abs/pii/S0950061824009231 - artigo que estima a força do concreto (2024)."
   ]
  },
  {
   "cell_type": "markdown",
   "id": "7c8dbe40-4cc6-467c-a136-c3c1343b47c0",
   "metadata": {},
   "source": [
    "## 3 - O que são problemas de regressão\n",
    "\n",
    "*  Prever uma **variável quantitativa** com base em **covariáveis que podem ser quantitativas ou categóricas**. O objetivo é encontrar uma relação entre variáveis independentes (**covariável**/**feature**/**variável explicativa**) e uma variável dependente (**alvo**/**target**/**resposta**).\n",
    "*  Representa um problema de **aprendizado supervisionado**, ou seja, problemas cujo **dados tem rótulos** - sabe-se o valor ou a categoria que se deseja prever. \n",
    "\n",
    "### Aplicações em negócios\n",
    "\n",
    "1. **Estimar a renda de uma pessoa** (**renda presumida**) - com base num conjunto de variáveis é possível estimar a renda de uma pessoa. Covariáveis como idade, sexo, nível educacional, patrimônio na bolsa, se declara (e/ou recebe) imposto de renda e informações de pagamento podem ajudar a prever a renda de uma pessoa. **Através desta estimativa, uma financeira pode definir um limite de crédito para um aplicante**.\n",
    " * $\\rightarrow$ https://cdlpoa.com.br/noticia/renda-presumida-o-que-e-e-como-ela-pode-auxiliar-na-concessao-de-credito/.\n",
    "2. **Estimar a demanda de um produto** (**previsão de demanda**)- com base num conjunto de variáveis é possível estimar a quantidade a ser vendida de um produto. Assim, variáveis como preço de venda, sazonalidade, custo das matérias-primas, preço dos concorrentes, preço do dólar (se o item apresentar componentes do exterior), no nível de inflação, nível de tributação, situação econômica do país (recessão ou expansão da economia) e outas informações podem ajudar a estimar a demanda de um produto. **Estimar a quantidade de comida vendida, a fim de evitar desperdício**.\n",
    " * $\\rightarrow$ https://www.sciencedirect.com/science/article/pii/S0959652623044232.\n",
    " * $\\rightarrow$ https://ojs.revistagesec.org.br/secretariado/article/view/1670.\n",
    "\n",
    "### Perspectiva de negócios em problemas de regressão\n",
    "\n",
    "É muito mais fácil e menos custoso obter as covariáveis do que o alvo."
   ]
  },
  {
   "cell_type": "markdown",
   "id": "ffaea7c0-2259-4874-9000-214e487a4529",
   "metadata": {},
   "source": [
    "## 4 - Fluxo do machine learning (perspectiva de negócios)"
   ]
  },
  {
   "cell_type": "markdown",
   "id": "b0443827-09a8-4e21-9ba0-0f13c141a422",
   "metadata": {},
   "source": [
    "![Fluxo do machine learning](ML_FLUXO_V4.png)"
   ]
  }
 ],
 "metadata": {
  "kernelspec": {
   "display_name": "Python 3 (ipykernel)",
   "language": "python",
   "name": "python3"
  },
  "language_info": {
   "codemirror_mode": {
    "name": "ipython",
    "version": 3
   },
   "file_extension": ".py",
   "mimetype": "text/x-python",
   "name": "python",
   "nbconvert_exporter": "python",
   "pygments_lexer": "ipython3",
   "version": "3.11.8"
  }
 },
 "nbformat": 4,
 "nbformat_minor": 5
}
