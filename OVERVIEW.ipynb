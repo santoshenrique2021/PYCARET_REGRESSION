{
 "cells": [
  {
   "cell_type": "markdown",
   "id": "a3dc4e0e-5190-4fef-8ef3-f2081f505edb",
   "metadata": {},
   "source": [
    "# Overview"
   ]
  },
  {
   "cell_type": "markdown",
   "id": "7b46eb84-316c-4abe-b959-a29b249eadbc",
   "metadata": {},
   "source": [
    "## 1 - Sobre mim\n",
    "\n",
    "1. Eu sou Henrique Santos e sou **Analista de Crédito e Prevenção à Fraude** da [DESKTOP](https://www.desktop.com.br/), uma empresa do segmento de telecomunicações que atua no fornecimento de internet banda larga para as cidades do interior de São Paulo. \n",
    "\n",
    "2. Minha formação:\n",
    "   * **Graduação**: Ciências econômicas (UFPE - Universidade Federal de Pernambuco);\n",
    "   * **Mestrado**: Engenharia de produção (UFPE);\n",
    "   * **Doutorado**: Biometria e estatística aplicada (UFRPE - Universidade Federal Rural de Pernambuco).\n",
    "\n",
    "3. Atuação profissional:\n",
    "    * Desde 2020, trabalho na área de ciência de dados, tanto na análise e construção de indicadores-chave de desempenho (analytics) quanto na modelagem preditiva (machine learning). Minha expertise profissional é em *credit scoring*, abrangendo todas as etapas do ciclo crédito, com foco no *prospect* (aquisição de clientes). \n",
    "\n",
    "### Contato\n",
    "1. E-mail: santos.henrique624@gmail.com\n",
    "2. Github: https://github.com/santoshenrique2021\n",
    "3. Linkedin: https://www.linkedin.com/in/henriquesantos2021/"
   ]
  },
  {
   "cell_type": "markdown",
   "id": "0e1de32b-a19f-4029-a6fb-d0349d4b688a",
   "metadata": {
    "jp-MarkdownHeadingCollapsed": true
   },
   "source": [
    "## 2 - PyCaret: Biblioteca Low-Code para Machine Learning em Python\n",
    "\n",
    "O **PyCaret** é uma biblioteca *open-source* de *machine learning* em Python que combina **produtividade**, **automação** e **facilidade de uso** em um único ecossistema.\n",
    "\n",
    "## Principais Características\n",
    "\n",
    "### 2.1. Abordagem Low-Code\n",
    "- Permite construir, treinar e implantar modelos com **poucas linhas de código**.\n",
    "- Ideal para **análises rápidas, prototipagem e comparação de modelos**.\n",
    "\n",
    "### 2.2. Automação do Workflow de ML\n",
    "Gerencia todo o ciclo de vida de um projeto de *machine learning*:\n",
    "- **Pré-processamento** (dados faltantes, codificação categórica, escalonamento).\n",
    "- **Seleção e Treinamento de Modelos** (classificação, regressão, clustering).\n",
    "- **Avaliação e Otimização** (comparação automática de algoritmos, *tuning* de hiperparâmetros).\n",
    "- **Deploy** (exportação para produção em cloud ou APIs).\n",
    "\n",
    "### 2.3. Integração com o Ecossistema Python\n",
    "Funciona como um *wrapper* para bibliotecas populares:\n",
    "- **Scikit-learn**, **XGBoost**, **LightGBM** (modelos).\n",
    "- **Optuna**, **Hyperopt** (otimização).\n",
    "- **Matplotlib**, **Plotly** (visualização).\n",
    "\n",
    "### 2.4. Versatilidade em Tarefas\n",
    "Módulos especializados para:\n",
    "- **Classificação** (ex.: diagnóstico médico).\n",
    "- **Regressão** (ex.: preços de imóveis).\n",
    "- **Clustering** (ex.: segmentação de clientes).\n",
    "- **Séries Temporais** (ex.: previsão de vendas).\n",
    "\n",
    "## Quando Usar?\n",
    "- **Iniciantes**: Aprender ML sem implementações complexas.\n",
    "- **Cientistas de Dados**: Acelerar experimentações.\n",
    "- **Equipes de Negócios**: Gerar *insights* rápidos.\n",
    "\n",
    "## Limitações\n",
    "- Menos flexível para **problemas customizados**.\n",
    "- Pode ocultar detalhes técnicos importantes.\n",
    "\n",
    "> **Nota**: Para instalação, use `pip install pycaret` (veja [documentação oficial](https://pycaret.readthedocs.io/en/stable/)).\n",
    "\n",
    "## Perspectiva acadêmica\n",
    "\n",
    "- Publicações acadêmicas que utilizaram esta biblioteca em problemas de *machine learning*:\n",
    "\n",
    "1. https://www.sciencedirect.com/science/article/pii/S2405844024014373 - artigo que estima o tempo de um paciente cardiopata na UTI após a cirugia cardiaca (2024).\n",
    "2. https://www.sciencedirect.com/science/article/abs/pii/S0030402623003698 - artigo que prediz o nível de radiação (2024).\n",
    "3. https://www.sciencedirect.com/science/article/abs/pii/S0950061824009231 - artigo que estima a força do concreto (2024)."
   ]
  },
  {
   "cell_type": "markdown",
   "id": "7c8dbe40-4cc6-467c-a136-c3c1343b47c0",
   "metadata": {},
   "source": [
    "## 3 - O que são problemas de regressão\n",
    "\n",
    "*  Prever uma **variável quantitativa** (chamada de **alvo**, **target** ou **resposta**) com base em **preditores** (chamado de **features**, **covariáveis**, ou **variáveis independentes**) que podem ser quantitativos ou categóricos.\n",
    "*  Problemas de regressão são classificados como **aprendizado supervisionado**, ou seja, problemas cujo **dados tem rótulos** - sabe-se o valor que se deseja prever. \n",
    "\n",
    "### Aplicações em negócios\n",
    "\n",
    "1. **Estimar a renda de uma pessoa** (**renda presumida**) - com base num conjunto de variáveis é possível estimar a renda de uma pessoa. Covariáveis como idade, sexo, nível educacional, patrimônio na bolsa, se declara (e/ou recebe) imposto de renda e informações de pagamento podem ajudar a prever a renda de uma pessoa. **Através desta estimativa, uma financeira pode definir um limite de crédito para um aplicante**.\n",
    " * $\\rightarrow$ https://cdlpoa.com.br/noticia/renda-presumida-o-que-e-e-como-ela-pode-auxiliar-na-concessao-de-credito/.\n",
    "2. **Estimar a demanda de um produto** (**previsão de demanda**)- com base num conjunto de variáveis é possível estimar a quantidade a ser vendida de um produto. Assim, variáveis como preço de venda, sazonalidade, custo das matérias-primas, preço dos concorrentes, preço do dólar (se o item apresentar componentes do exterior), inflação, nível de tributação, situação econômica do país (recessão ou expansão da economia) e outas informações podem ajudar a estimar a demanda de um produto.\n",
    " * $\\rightarrow$ https://www.sciencedirect.com/science/article/pii/S0959652623044232.\n",
    " * $\\rightarrow$ https://ojs.revistagesec.org.br/secretariado/article/view/1670.\n",
    "\n",
    "### Perspectiva prática\n",
    "\n",
    "É muito mais fácil e menos custoso obter as covariáveis do que o alvo."
   ]
  },
  {
   "cell_type": "markdown",
   "id": "ffaea7c0-2259-4874-9000-214e487a4529",
   "metadata": {},
   "source": [
    "## 4 - Fluxo do machine learning (perspectiva de negócios)"
   ]
  },
  {
   "cell_type": "markdown",
   "id": "b0443827-09a8-4e21-9ba0-0f13c141a422",
   "metadata": {},
   "source": [
    "![Fluxo do machine learning](ML_FLUXO_V5.png)"
   ]
  }
 ],
 "metadata": {
  "kernelspec": {
   "display_name": "Python 3 (ipykernel)",
   "language": "python",
   "name": "python3"
  },
  "language_info": {
   "codemirror_mode": {
    "name": "ipython",
    "version": 3
   },
   "file_extension": ".py",
   "mimetype": "text/x-python",
   "name": "python",
   "nbconvert_exporter": "python",
   "pygments_lexer": "ipython3",
   "version": "3.11.8"
  }
 },
 "nbformat": 4,
 "nbformat_minor": 5
}
