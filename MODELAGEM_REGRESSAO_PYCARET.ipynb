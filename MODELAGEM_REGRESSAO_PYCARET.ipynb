{
 "cells": [
  {
   "cell_type": "markdown",
   "id": "a3dc4e0e-5190-4fef-8ef3-f2081f505edb",
   "metadata": {},
   "source": [
    "# PyCaret aplicado a problemas de regressão"
   ]
  },
  {
   "cell_type": "markdown",
   "id": "7b46eb84-316c-4abe-b959-a29b249eadbc",
   "metadata": {},
   "source": [
    "## 1 - Sobre mim\n",
    "\n",
    "1. Eu sou Henrique Santos e trabalho como analista de crédito e prevenção à fraude de uma empresa de telecomunicações chamada [DESKTOP](https://www.desktop.com.br/). \n",
    "\n",
    "2. Minha formação acadêmica:\n",
    "   * **Graduação**: Ciências econômicas (UFPE - Universidade Federal de Pernambuco);\n",
    "   * **Mestrado**: Engenharia de produção (UFPE);\n",
    "   * **Doutorado**: Biometria e estatística aplicada (UFRPE - Universidade Federal Rural de Pernambuco).\n",
    "\n",
    "3. Atuação profissional:\n",
    "    * Desde 2020, trabalho na área de ciência de dados, tanto na análise e construção de indicadores-chave de desempenho quanto na modelagem preditiva. Minha expertise profissional é a modelagem de *credit scoring*, abrangendo todas as etapas do ciclo crédito, com um foco em empresas de telecomunicações. \n",
    "\n",
    "### Contato\n",
    "1. E-mail: santos.henrique624@gmail.com\n",
    "2. Github: https://github.com/santoshenrique2021\n",
    "3. Linkedin: https://www.linkedin.com/in/henriquesantos2021/"
   ]
  },
  {
   "cell_type": "markdown",
   "id": "0e1de32b-a19f-4029-a6fb-d0349d4b688a",
   "metadata": {},
   "source": [
    "## 2 - PyCaret\n",
    "\n",
    "O PyCaret é uma biblioteca de *machine learning* (aprendizado de máquina) em Python que apresenta uma interface amigável, utiliza poucas linhas de código (*low-code machine learning library*) e automatiza o *workflow* (é o processo sistemático de desenvolver, treinar, avaliar e colocar em produção os modelos de aprendizado de máquina).  É uma ferramenta abrangente, pois desenvolve e gerencia modelos, acelerando significativamente o ciclo de experimentação e aumentando a produtividade. Além disso, ela funciona como um invólucro para outras bibliotecas do Python (integrando com Pandas, NumPy e Scikit-Learn).\n",
    "\n",
    "### Diretriz\n",
    "\n",
    "Menos linhas de código e mais tempo dedicado a análise de resultados e definição de estratégias.\n",
    "\n",
    "### Estrutura\n",
    "\n",
    "O design do Pycaret é definido através de módulos. Cada um executa uma executa uma tarefa no ciclo de aprendizado de máquina.\n",
    "\n",
    "### Abrangência:\n",
    "\n",
    "1. **Regressão** (foco da apresentação);\n",
    "2. Classificação;\n",
    "3. Análise de cluster;\n",
    "4. Séries temporais;\n",
    "5. Detecção de anomalias.\n",
    "\n",
    "### Documentação oficial\n",
    "\n",
    "* https://pycaret.readthedocs.io/en/stable/\n",
    "\n",
    "### Perspectiva acadêmica\n",
    "\n",
    "Publicações acadêmicas que utilizaram esta biblioteca em problemas de *machine learning*:\n",
    "\n",
    "1. https://www.sciencedirect.com/science/article/pii/S2405844024014373 - artigo que estima o tempo de um paciente cardiopata na UTI após a cirugia cardiaca (2024).\n",
    "2. https://www.sciencedirect.com/science/article/abs/pii/S0030402623003698 - artigo que prediz o nível de radiação (2024).\n",
    "3. https://www.sciencedirect.com/science/article/abs/pii/S0950061824009231 - artigo que estima a força do concreto (2024)."
   ]
  },
  {
   "cell_type": "markdown",
   "id": "7c8dbe40-4cc6-467c-a136-c3c1343b47c0",
   "metadata": {},
   "source": [
    "## 3 - O que são problemas de regressão\n",
    "\n",
    "*  Prever uma **variável quantitativa** com base em **covariáveis que podem ser quantitativas ou categóricas**. O objetivo é encontrar uma relação entre variáveis independentes (**covariável**/**feature**/**variável explicativa**) e uma variável dependente (**alvo**/**target**/**resposta**).\n",
    "*  Representa um problema de **aprendizado supervisionado**, ou seja, problemas cujo **dados tem rótulos** - sabe-se o valor ou a categoria que se deseja prever. \n",
    "\n",
    "### Aplicações em negócios\n",
    "\n",
    "1. **Estimar a renda de uma pessoa** (**renda presumida**) - com base num conjunto de variáveis é possível estimar a renda de uma pessoa. Covariáveis como idade, sexo, nível educacional, patrimônio na bolsa, se declara (e/ou recebe) imposto de renda e informações de pagamento podem ajudar a prever a renda de uma pessoa. **Através desta estimativa, uma financeira pode definir um limite de crédito para um aplicante**.\n",
    " * $\\rightarrow$ https://cdlpoa.com.br/noticia/renda-presumida-o-que-e-e-como-ela-pode-auxiliar-na-concessao-de-credito/.\n",
    "2. **Estimar a demanda de um produto** (**previsão de demanda**)- com base num conjunto de variáveis é possível estimar a quantidade a ser vendida de um produto. Assim, variáveis como preço de venda, sazonalidade, custo das matérias-primas, preço dos concorrentes, preço do dólar (se o item apresentar componentes do exterior), no nível de inflação, nível de tributação, situação econômica do país (recessão ou expansão da economia) e outas informações podem ajudar a estimar a demanda de um produto. **Estimar a quantidade de comida vendida, a fim de evitar desperdício**.\n",
    " * $\\rightarrow$ https://www.sciencedirect.com/science/article/pii/S0959652623044232.\n",
    " * $\\rightarrow$ https://ojs.revistagesec.org.br/secretariado/article/view/1670.\n",
    "\n",
    "### Perspectiva de negócios em problemas de regressão\n",
    "\n",
    "É muito mais fácil e menos custoso obter as covariáveis do que o alvo."
   ]
  },
  {
   "cell_type": "markdown",
   "id": "ffaea7c0-2259-4874-9000-214e487a4529",
   "metadata": {},
   "source": [
    "## 4 - Fluxo do machine learning (perspectiva de negócios)"
   ]
  },
  {
   "cell_type": "markdown",
   "id": "b0443827-09a8-4e21-9ba0-0f13c141a422",
   "metadata": {},
   "source": [
    "![Fluxo do machine learning](ML_FLUXO_V4.png)"
   ]
  },
  {
   "cell_type": "markdown",
   "id": "822b4cd8-73d8-4544-898b-a67bce176bd1",
   "metadata": {},
   "source": [
    "## 5 - Exemplo\n",
    "\n",
    "* Como funciona o Pycaret no contexto de precificação de imóveis.\n",
    "\n",
    "### Contextualização\n",
    "\n",
    "* Uma imobiliária deseja construir um modelo de aprendizado de máquina que estime o preço dos imóveis com base em um conjunto de características (covariáveis) que compõem uma residência. Assim, a partir de um histórico de dados referente a negociações de imóveis, vai-se construir o modelo. \n",
    "    * **Estratégia de negócio**: Utilizar a modelagem preditiva como ponto de partida para definir qual deverá ser o preço de venda do imóvel."
   ]
  },
  {
   "cell_type": "markdown",
   "id": "4501aa99-630b-4b70-929a-42b4a559804b",
   "metadata": {},
   "source": [
    "## Operacionalização do Pycaret"
   ]
  },
  {
   "cell_type": "markdown",
   "id": "74aa972d-7d0c-4aef-baa4-ba801699ff05",
   "metadata": {},
   "source": [
    "**Imports requeridos para a execução do estudo**"
   ]
  },
  {
   "cell_type": "code",
   "execution_count": 1,
   "id": "b0fd80cd-d7ae-484a-81a0-64008d3d5382",
   "metadata": {},
   "outputs": [],
   "source": [
    "#Bibliotecas básicas\n",
    "import pandas as pd     #Manipulação dos dados\n",
    "import numpy as np      #Operações multidimensionais e matemáticas\n",
    "import matplotlib.pyplot as plt    #Gráficos\n",
    "import matplotlib.ticker as ticker #Remover a notação científica do gráfico\n",
    "import seaborn as sns              #Gráficos\n",
    "##Machine learning\n",
    "from pycaret.regression import * \n",
    "##Eliminar os warnings\n",
    "import warnings\n",
    "warnings.filterwarnings(\"ignore\")\n",
    "##Ver todas as colunas do data frame\n",
    "pd.set_option('display.max_columns', None)\n",
    "##Extrair os valores do feature importance\n",
    "import sklearn as sk\n",
    "#Definir o formato de exibição tipo float para evitar notação científica\n",
    "pd.options.display.float_format = '{:.2f}'.format\n",
    "#MAPE (métrica de avaliação)\n",
    "from sktime.performance_metrics.forecasting import mean_absolute_percentage_error\n",
    "##Extrair os valores do feature importance\n",
    "import sklearn as sk"
   ]
  },
  {
   "cell_type": "markdown",
   "id": "d1e906c8-1ffe-49d3-a42e-f3e6337d9cdf",
   "metadata": {},
   "source": [
    "**Versões do Python e Pycaret instalados**"
   ]
  },
  {
   "cell_type": "code",
   "execution_count": 2,
   "id": "4e00a4a1-2245-467f-b937-9f7f3b4512b5",
   "metadata": {},
   "outputs": [
    {
     "name": "stdout",
     "output_type": "stream",
     "text": [
      "Versão do Python: 3.11.8 | packaged by Anaconda, Inc. | (main, Feb 26 2024, 21:34:05) [MSC v.1916 64 bit (AMD64)]\n"
     ]
    }
   ],
   "source": [
    "#Identificar a versão do Python\n",
    "import sys\n",
    "print(f\"Versão do Python: {sys.version}\") #Versão do Python: 3.11.8"
   ]
  },
  {
   "cell_type": "code",
   "execution_count": 3,
   "id": "3c5084c9-3c13-4b35-92af-07377be963a7",
   "metadata": {},
   "outputs": [
    {
     "name": "stdout",
     "output_type": "stream",
     "text": [
      "Versão do PyCaret: 3.3.0\n"
     ]
    }
   ],
   "source": [
    "#Identificar a versão do Pycaret\n",
    "import pycaret\n",
    "print(f\"Versão do PyCaret: {pycaret.__version__}\") #Versão do PyCaret: 3.3.0\n"
   ]
  },
  {
   "cell_type": "markdown",
   "id": "db5edc24-0483-4cc6-bb73-d21eeaafe7d2",
   "metadata": {},
   "source": [
    "### 5.1 - Visão geral os dados"
   ]
  },
  {
   "cell_type": "code",
   "execution_count": 4,
   "id": "b256eab0-140e-4504-b900-b58a522a5448",
   "metadata": {},
   "outputs": [
    {
     "data": {
      "text/html": [
       "<div>\n",
       "<style scoped>\n",
       "    .dataframe tbody tr th:only-of-type {\n",
       "        vertical-align: middle;\n",
       "    }\n",
       "\n",
       "    .dataframe tbody tr th {\n",
       "        vertical-align: top;\n",
       "    }\n",
       "\n",
       "    .dataframe thead th {\n",
       "        text-align: right;\n",
       "    }\n",
       "</style>\n",
       "<table border=\"1\" class=\"dataframe\">\n",
       "  <thead>\n",
       "    <tr style=\"text-align: right;\">\n",
       "      <th></th>\n",
       "      <th>ID_RESIDENCIA</th>\n",
       "      <th>PRECO</th>\n",
       "      <th>AREA</th>\n",
       "      <th>QUARTOS</th>\n",
       "      <th>BANHEIROS</th>\n",
       "      <th>ANDARES</th>\n",
       "      <th>FLAG_CENTRO</th>\n",
       "      <th>FLAG_QUARTO_HOSPEDE</th>\n",
       "      <th>FLAG_PORAO</th>\n",
       "      <th>FLAG_AGUA_MORNA</th>\n",
       "      <th>FLAG_AR_CONDICIONADO</th>\n",
       "      <th>VAGAS_ESTACIONAMENTO</th>\n",
       "      <th>FLAG_AREA_PREFERENCIAL</th>\n",
       "      <th>MOBILIADA</th>\n",
       "    </tr>\n",
       "  </thead>\n",
       "  <tbody>\n",
       "    <tr>\n",
       "      <th>0</th>\n",
       "      <td>A1</td>\n",
       "      <td>13300000</td>\n",
       "      <td>7420</td>\n",
       "      <td>4.00</td>\n",
       "      <td>2.00</td>\n",
       "      <td>3</td>\n",
       "      <td>SIM</td>\n",
       "      <td>NAO</td>\n",
       "      <td>NAO</td>\n",
       "      <td>NaN</td>\n",
       "      <td>SIM</td>\n",
       "      <td>2.00</td>\n",
       "      <td>SIM</td>\n",
       "      <td>SIM</td>\n",
       "    </tr>\n",
       "    <tr>\n",
       "      <th>1</th>\n",
       "      <td>A2</td>\n",
       "      <td>12250000</td>\n",
       "      <td>8960</td>\n",
       "      <td>4.00</td>\n",
       "      <td>4.00</td>\n",
       "      <td>4</td>\n",
       "      <td>SIM</td>\n",
       "      <td>NAO</td>\n",
       "      <td>NaN</td>\n",
       "      <td>NAO</td>\n",
       "      <td>SIM</td>\n",
       "      <td>3.00</td>\n",
       "      <td>NAO</td>\n",
       "      <td>SIM</td>\n",
       "    </tr>\n",
       "    <tr>\n",
       "      <th>2</th>\n",
       "      <td>A3</td>\n",
       "      <td>12250000</td>\n",
       "      <td>9960</td>\n",
       "      <td>NaN</td>\n",
       "      <td>2.00</td>\n",
       "      <td>2</td>\n",
       "      <td>SIM</td>\n",
       "      <td>NAO</td>\n",
       "      <td>SIM</td>\n",
       "      <td>NAO</td>\n",
       "      <td>NAO</td>\n",
       "      <td>2.00</td>\n",
       "      <td>SIM</td>\n",
       "      <td>PARCIALMENTE</td>\n",
       "    </tr>\n",
       "  </tbody>\n",
       "</table>\n",
       "</div>"
      ],
      "text/plain": [
       "  ID_RESIDENCIA     PRECO  AREA  QUARTOS  BANHEIROS  ANDARES FLAG_CENTRO  \\\n",
       "0            A1  13300000  7420     4.00       2.00        3         SIM   \n",
       "1            A2  12250000  8960     4.00       4.00        4         SIM   \n",
       "2            A3  12250000  9960      NaN       2.00        2         SIM   \n",
       "\n",
       "  FLAG_QUARTO_HOSPEDE FLAG_PORAO FLAG_AGUA_MORNA FLAG_AR_CONDICIONADO  \\\n",
       "0                 NAO        NAO             NaN                  SIM   \n",
       "1                 NAO        NaN             NAO                  SIM   \n",
       "2                 NAO        SIM             NAO                  NAO   \n",
       "\n",
       "   VAGAS_ESTACIONAMENTO FLAG_AREA_PREFERENCIAL     MOBILIADA  \n",
       "0                  2.00                    SIM           SIM  \n",
       "1                  3.00                    NAO           SIM  \n",
       "2                  2.00                    SIM  PARCIALMENTE  "
      ]
     },
     "execution_count": 4,
     "metadata": {},
     "output_type": "execute_result"
    }
   ],
   "source": [
    "#Importar a base de dados\n",
    "df =  pd.read_csv('base_dados.csv', sep = ';')\n",
    "#Visualizar\n",
    "df.head(3) #Visualizar as três primeiras linhas da tabela"
   ]
  },
  {
   "cell_type": "markdown",
   "id": "cda5b5fa-1c57-4810-8eef-c3610ebcb16f",
   "metadata": {},
   "source": [
    "* NaN - **not as number** (é um valor nulo/ *missing*)."
   ]
  },
  {
   "cell_type": "code",
   "execution_count": 5,
   "id": "9420ba02-7f9e-426a-8825-1f5c5a279465",
   "metadata": {},
   "outputs": [
    {
     "data": {
      "text/plain": [
       "(545, 14)"
      ]
     },
     "execution_count": 5,
     "metadata": {},
     "output_type": "execute_result"
    }
   ],
   "source": [
    "#Características básicas do data frame - Parte 1\n",
    "df.shape #545 observações e 14 variáveis "
   ]
  },
  {
   "cell_type": "code",
   "execution_count": 6,
   "id": "67a367bb-5749-4e7a-b3db-be500c3d6b50",
   "metadata": {},
   "outputs": [
    {
     "name": "stdout",
     "output_type": "stream",
     "text": [
      "<class 'pandas.core.frame.DataFrame'>\n",
      "RangeIndex: 545 entries, 0 to 544\n",
      "Data columns (total 14 columns):\n",
      " #   Column                  Non-Null Count  Dtype  \n",
      "---  ------                  --------------  -----  \n",
      " 0   ID_RESIDENCIA           545 non-null    object \n",
      " 1   PRECO                   545 non-null    int64  \n",
      " 2   AREA                    545 non-null    int64  \n",
      " 3   QUARTOS                 481 non-null    float64\n",
      " 4   BANHEIROS               465 non-null    float64\n",
      " 5   ANDARES                 545 non-null    int64  \n",
      " 6   FLAG_CENTRO             533 non-null    object \n",
      " 7   FLAG_QUARTO_HOSPEDE     523 non-null    object \n",
      " 8   FLAG_PORAO              510 non-null    object \n",
      " 9   FLAG_AGUA_MORNA         469 non-null    object \n",
      " 10  FLAG_AR_CONDICIONADO    532 non-null    object \n",
      " 11  VAGAS_ESTACIONAMENTO    485 non-null    float64\n",
      " 12  FLAG_AREA_PREFERENCIAL  527 non-null    object \n",
      " 13  MOBILIADA               493 non-null    object \n",
      "dtypes: float64(3), int64(3), object(8)\n",
      "memory usage: 59.7+ KB\n"
     ]
    }
   ],
   "source": [
    "#Características básicas do data frame - Parte 2\n",
    "df.info()#Nome da variável, contagem de observações não nulas e o tipo das variáveis"
   ]
  },
  {
   "cell_type": "markdown",
   "id": "9e35cba0-e4ab-43c3-be93-af48fef36c42",
   "metadata": {},
   "source": [
    "### 5.2 - Análise exploratória dos dados"
   ]
  },
  {
   "cell_type": "markdown",
   "id": "f2e1aa43-0748-476b-8bd8-2d3ca9720485",
   "metadata": {},
   "source": [
    "**Percentual de valores nulos para cada variável**"
   ]
  },
  {
   "cell_type": "code",
   "execution_count": 7,
   "id": "6ebc07ea-0a6b-46a5-9072-66e8008367a1",
   "metadata": {},
   "outputs": [
    {
     "data": {
      "text/html": [
       "<div>\n",
       "<style scoped>\n",
       "    .dataframe tbody tr th:only-of-type {\n",
       "        vertical-align: middle;\n",
       "    }\n",
       "\n",
       "    .dataframe tbody tr th {\n",
       "        vertical-align: top;\n",
       "    }\n",
       "\n",
       "    .dataframe thead th {\n",
       "        text-align: right;\n",
       "    }\n",
       "</style>\n",
       "<table border=\"1\" class=\"dataframe\">\n",
       "  <thead>\n",
       "    <tr style=\"text-align: right;\">\n",
       "      <th></th>\n",
       "      <th>VARIAVEL</th>\n",
       "      <th>PERCENTUAL_MISSING</th>\n",
       "    </tr>\n",
       "  </thead>\n",
       "  <tbody>\n",
       "    <tr>\n",
       "      <th>0</th>\n",
       "      <td>ID_RESIDENCIA</td>\n",
       "      <td>0.00</td>\n",
       "    </tr>\n",
       "    <tr>\n",
       "      <th>1</th>\n",
       "      <td>PRECO</td>\n",
       "      <td>0.00</td>\n",
       "    </tr>\n",
       "    <tr>\n",
       "      <th>2</th>\n",
       "      <td>AREA</td>\n",
       "      <td>0.00</td>\n",
       "    </tr>\n",
       "    <tr>\n",
       "      <th>3</th>\n",
       "      <td>QUARTOS</td>\n",
       "      <td>11.74</td>\n",
       "    </tr>\n",
       "    <tr>\n",
       "      <th>4</th>\n",
       "      <td>BANHEIROS</td>\n",
       "      <td>14.68</td>\n",
       "    </tr>\n",
       "    <tr>\n",
       "      <th>5</th>\n",
       "      <td>ANDARES</td>\n",
       "      <td>0.00</td>\n",
       "    </tr>\n",
       "    <tr>\n",
       "      <th>6</th>\n",
       "      <td>FLAG_CENTRO</td>\n",
       "      <td>2.20</td>\n",
       "    </tr>\n",
       "    <tr>\n",
       "      <th>7</th>\n",
       "      <td>FLAG_QUARTO_HOSPEDE</td>\n",
       "      <td>4.04</td>\n",
       "    </tr>\n",
       "    <tr>\n",
       "      <th>8</th>\n",
       "      <td>FLAG_PORAO</td>\n",
       "      <td>6.42</td>\n",
       "    </tr>\n",
       "    <tr>\n",
       "      <th>9</th>\n",
       "      <td>FLAG_AGUA_MORNA</td>\n",
       "      <td>13.94</td>\n",
       "    </tr>\n",
       "    <tr>\n",
       "      <th>10</th>\n",
       "      <td>FLAG_AR_CONDICIONADO</td>\n",
       "      <td>2.39</td>\n",
       "    </tr>\n",
       "    <tr>\n",
       "      <th>11</th>\n",
       "      <td>VAGAS_ESTACIONAMENTO</td>\n",
       "      <td>11.01</td>\n",
       "    </tr>\n",
       "    <tr>\n",
       "      <th>12</th>\n",
       "      <td>FLAG_AREA_PREFERENCIAL</td>\n",
       "      <td>3.30</td>\n",
       "    </tr>\n",
       "    <tr>\n",
       "      <th>13</th>\n",
       "      <td>MOBILIADA</td>\n",
       "      <td>9.54</td>\n",
       "    </tr>\n",
       "  </tbody>\n",
       "</table>\n",
       "</div>"
      ],
      "text/plain": [
       "                  VARIAVEL  PERCENTUAL_MISSING\n",
       "0            ID_RESIDENCIA                0.00\n",
       "1                    PRECO                0.00\n",
       "2                     AREA                0.00\n",
       "3                  QUARTOS               11.74\n",
       "4                BANHEIROS               14.68\n",
       "5                  ANDARES                0.00\n",
       "6              FLAG_CENTRO                2.20\n",
       "7      FLAG_QUARTO_HOSPEDE                4.04\n",
       "8               FLAG_PORAO                6.42\n",
       "9          FLAG_AGUA_MORNA               13.94\n",
       "10    FLAG_AR_CONDICIONADO                2.39\n",
       "11    VAGAS_ESTACIONAMENTO               11.01\n",
       "12  FLAG_AREA_PREFERENCIAL                3.30\n",
       "13               MOBILIADA                9.54"
      ]
     },
     "execution_count": 7,
     "metadata": {},
     "output_type": "execute_result"
    }
   ],
   "source": [
    "#Tabela com o percentual de missing das variáveis do modelo\n",
    "percent_missing = df.isnull().mean() * 100\n",
    "\n",
    "##Reestruturar a tabela\n",
    "df_perc_missing = percent_missing.reset_index()  #Reinicializa o índice e converte o índice em uma coluna\n",
    "df_perc_missing = df_perc_missing.rename(columns={'index': 'VARIAVEL', 0: 'PERCENTUAL_MISSING'})\n",
    "df_perc_missing"
   ]
  },
  {
   "cell_type": "markdown",
   "id": "c2b1613e-b22e-4ff3-a042-a95019a6a862",
   "metadata": {},
   "source": [
    "* **Nota**: Se o percentual de *missing* de uma variável for muito elevado (superior a 70% - por exemplo), pode ser mais interessante removê-la da análise.\n",
    "* **Nota**: Como lidar (e qual o impacto) com valores ausentes de uma variável na modelagem?"
   ]
  },
  {
   "cell_type": "markdown",
   "id": "1a26e54c-b6c0-4c49-bc1a-b0f1fb3c6b1e",
   "metadata": {},
   "source": [
    "## 2.2 - Análise descritiva da variável resposta (PRECO)"
   ]
  },
  {
   "cell_type": "code",
   "execution_count": null,
   "id": "9b757cdf-508e-492e-9d46-98b3dd071d12",
   "metadata": {},
   "outputs": [],
   "source": [
    "#Sumário estatístico\n",
    "df['PRECO'].describe(percentiles=[.1, .2, .3, .4, .5, .6, .7, .8, .9])"
   ]
  },
  {
   "cell_type": "code",
   "execution_count": null,
   "id": "48676275-a66c-4853-893a-5df7a664ba1e",
   "metadata": {},
   "outputs": [],
   "source": [
    "#Coeficiente de variação - variabilidade em torno da média\n",
    "round(100 * df['PRECO'].std()/df['PRECO'].mean(),2) #39.24 #Variabilidade em nível mediano"
   ]
  },
  {
   "cell_type": "markdown",
   "id": "03526d0f-995b-48e9-9133-5a05d75792e0",
   "metadata": {},
   "source": [
    "### 2.2.1 - Representação gráfica"
   ]
  },
  {
   "cell_type": "code",
   "execution_count": null,
   "id": "2d5231d9-3f4f-45be-b16c-da3b9b3505ea",
   "metadata": {},
   "outputs": [],
   "source": [
    "#Boxplot\n",
    "boxplot = df.boxplot(column='PRECO', grid=False,  patch_artist=True, boxprops=dict(facecolor='lightblue'), medianprops=dict(color='red'))\n",
    "boxplot.set_title('Distribuição dos preços dos imóveis', fontweight='bold',  loc='left')\n",
    "\n",
    "#Eixo Y\n",
    "plt.ylabel('Valores em US$')\n",
    "\n",
    "#Eixo X\n",
    "plt.xticks([])\n",
    "plt.xlabel('Preço do Imóvel')\n",
    "\n",
    "\n",
    "#Personalizar o eixo y para evitar a notação científica\n",
    "boxplot.yaxis.set_major_formatter(ticker.FuncFormatter(lambda x, pos: '{:.0f}'.format(x)))"
   ]
  },
  {
   "cell_type": "code",
   "execution_count": null,
   "id": "793c6cff-bea9-456d-bb31-a7b6fa67cccd",
   "metadata": {},
   "outputs": [],
   "source": [
    "#Identificar as observações que são outliers\n",
    "q1 = np.percentile(df.PRECO, 25) #Primeiro Quartil\n",
    "q3 = np.percentile(df.PRECO, 75) #Terceiro Quartil\n",
    "\n",
    "#Calcular a amplitude interquartil (IQR)\n",
    "iqr = q3 - q1\n",
    "\n",
    "#Definir os limites para identificação de outliers\n",
    "lower_bound = q1 - 1.5 * iqr\n",
    "upper_bound = q3 + 1.5 * iqr\n",
    "\n",
    "#Identificar outliers\n",
    "outliers = [x for x in df.PRECO if x < lower_bound or x > upper_bound]\n",
    "\n",
    "#Visualização\n",
    "print(\"Outliers:\", outliers)"
   ]
  },
  {
   "cell_type": "code",
   "execution_count": null,
   "id": "7b6eb855-9b47-46e2-a825-467880a5cc74",
   "metadata": {},
   "outputs": [],
   "source": [
    "#Total de observações que são outliers\n",
    "len(outliers) #15"
   ]
  },
  {
   "cell_type": "code",
   "execution_count": null,
   "id": "c9693139-6196-41cd-af6f-1451d64a2841",
   "metadata": {},
   "outputs": [],
   "source": [
    "#A partir de que valor a observação é um outlier\n",
    "upper_bound = q3 + 1.5 * iqr\n",
    "upper_bound #9.205.000"
   ]
  },
  {
   "cell_type": "markdown",
   "id": "63279690-e8b8-4c4d-a682-61dc9fbf8e10",
   "metadata": {},
   "source": [
    "**Nota**: Como fica a previsão do PRECO para as observações que são outliers?"
   ]
  },
  {
   "cell_type": "markdown",
   "id": "7d505e64-0721-4b08-91cc-eee4b23a4a58",
   "metadata": {},
   "source": [
    "## 2.3 - Análise das variáveis explicativas quantitativas "
   ]
  },
  {
   "cell_type": "code",
   "execution_count": null,
   "id": "a3b272e4-4ecc-4d41-9a0e-7ece18d54556",
   "metadata": {},
   "outputs": [],
   "source": [
    "#Extraíndo as variáveis que são do tipo FLOAT e INT\n",
    "tipos_desejados = ['int64', 'float64']\n",
    "colunas_desejadas = [coluna for coluna in df.select_dtypes(include=tipos_desejados) if coluna != 'PRECO']"
   ]
  },
  {
   "cell_type": "code",
   "execution_count": null,
   "id": "30c4679f-c214-4729-8565-1d2d9b31f9a2",
   "metadata": {},
   "outputs": [],
   "source": [
    "#EDA das variáveis numéricas\n",
    "for coluna in colunas_desejadas:\n",
    "    print(f\"--- {coluna} ---\")\n",
    "    print(f\"Média: {df[coluna].mean()}\")\n",
    "    print(f\"Mediana: {df[coluna].median()}\")\n",
    "    print(f\"Máximo: {df[coluna].max()}\")\n",
    "    print(f\"Mínimo: {df[coluna].min()}\")\n",
    "    print(f\"Desvio Padrão: {df[coluna].std()}\")\n",
    "    print(f\"Coeficiente de variação: {df[coluna].std()/df[coluna].mean() * 100}\")\n",
    "    print()"
   ]
  },
  {
   "cell_type": "markdown",
   "id": "75f84261-d80c-4839-9d5e-fde30dff8d93",
   "metadata": {},
   "source": [
    "**Nota**: Saber **identificar a dispersão e o seu range de valores (variabilidade e cardinalidade)**. \n",
    "* Exemplo: A variável *VAGAS_ESTACIONAMENTO*, observa-se que muitas casas tem poucas ou nenhuma vaga de estacionamento para carros e poucas residências tem muitas - **alta dispersão**."
   ]
  },
  {
   "cell_type": "markdown",
   "id": "e50e9ce8-687a-4909-a500-9464ff972544",
   "metadata": {},
   "source": [
    "## 2.4 - Análise descritiva das variáveis categóricas "
   ]
  },
  {
   "cell_type": "code",
   "execution_count": null,
   "id": "08a5caa5-bc65-49eb-a255-e87cac272001",
   "metadata": {},
   "outputs": [],
   "source": [
    "#As classes de cada variável categórica e sua frequência relativa\n",
    "for coluna in df.select_dtypes(include = \"object\"):\n",
    "    print (f\"{coluna}:\\n{df[coluna].value_counts(True)}\")"
   ]
  },
  {
   "cell_type": "markdown",
   "id": "bf19f346-35a3-4670-8c38-91b38064df07",
   "metadata": {},
   "source": [
    "**Nota**: Saber identificar a **frequência relativa das classes da variável categórica**, no sentido de avaliar **pontos de concentração**.\n",
    "* Exemplo: A variável FLAG_AGUA_MORNA concentra que 95% das casas não tem água morna."
   ]
  },
  {
   "cell_type": "markdown",
   "id": "ddd6b0d6-f7b0-42d3-b92f-0ea6f3a82c44",
   "metadata": {},
   "source": [
    "**Nota**: As seções 2.3 e 2.4 representaram análises univariadas. "
   ]
  },
  {
   "cell_type": "markdown",
   "id": "9de3055b-8b82-4787-8ef3-e6d7606e5cd4",
   "metadata": {},
   "source": [
    "**Ideia**: Com as estatísticas obtidas das variáveis independentes seria possível criar uma ***PERSONA*, ou seja, o perfil médio das casas**. Poderia também pensar numa análise de agrupamento ou aplicar regras de negócio no contexto de segmentação."
   ]
  },
  {
   "cell_type": "markdown",
   "id": "e16bf9ee-c357-466f-9ea3-a30ff07ef19b",
   "metadata": {},
   "source": [
    "## 2.5 - Análise bivariada (distribuição conjunta)\n",
    "\n",
    "* Quantificar o efeito das covariáveis na distribuição da variável resposta. "
   ]
  },
  {
   "cell_type": "markdown",
   "id": "990dc594-ce05-416c-8c23-1ab1ef8d9a65",
   "metadata": {},
   "source": [
    "**ALVO vs variáveis categóricas**"
   ]
  },
  {
   "cell_type": "code",
   "execution_count": null,
   "id": "a89703a2-2949-4efb-92e9-4767c704d912",
   "metadata": {},
   "outputs": [],
   "source": [
    "#Lista de colunas categóricas\n",
    "colunas_categoricas = df.select_dtypes(include='object').columns"
   ]
  },
  {
   "cell_type": "code",
   "execution_count": null,
   "id": "007b7a88-e09a-4797-8149-5c9abdc25ed3",
   "metadata": {},
   "outputs": [],
   "source": [
    "#Iterando sobre as colunas categóricas\n",
    "for coluna in colunas_categoricas:\n",
    "    print(f\"Análise bivariada {coluna}:\")\n",
    "    summary = df.groupby([coluna])['PRECO'].agg(['mean', 'median', 'std', lambda x: x.quantile(0.25), lambda x: x.quantile(0.75)])\n",
    "    summary.columns = ['Média', 'Mediana', 'Desvio Padrão', 'Percentil 25', 'Percentil 75']\n",
    "    print(summary)\n",
    "    print('\\n')"
   ]
  },
  {
   "cell_type": "markdown",
   "id": "a9172f78-61ac-4132-9e56-a3a07ee3468e",
   "metadata": {},
   "source": [
    "**Nota**: A distribuição do *PRECO* é muito sensível com a variável *FLAG_CENTRO*."
   ]
  },
  {
   "cell_type": "markdown",
   "id": "7f9d9617-24af-4164-85a0-77fb16020fa1",
   "metadata": {},
   "source": [
    "**ALVO vs variáveis numéricas**"
   ]
  },
  {
   "cell_type": "markdown",
   "id": "58858d07-41cf-4378-aa63-0a81467a9ba1",
   "metadata": {},
   "source": [
    "1. **Correlação**\n",
    "    * Correlação das variáveis explicativas com o ALVO e entre elas."
   ]
  },
  {
   "cell_type": "markdown",
   "id": "0bca5dee-4c9d-46ee-95ab-3ba6974359a4",
   "metadata": {},
   "source": [
    "**Mapa de calor**"
   ]
  },
  {
   "cell_type": "code",
   "execution_count": null,
   "id": "56e8261a-c692-4a55-851a-4bdf10208316",
   "metadata": {},
   "outputs": [],
   "source": [
    "#Heatmap\n",
    "#Data frame com as colunas numéricas\n",
    "df_numerical = df.select_dtypes(include=['int', 'float'])\n",
    "#Correlação\n",
    "plt.figure(figsize = (7,7))\n",
    "sns.heatmap(df_numerical.corr(\"spearman\"), annot = True, cmap = \"YlGnBu\")\n",
    "plt.title(\"Mapa de Correlação das Variáveis Numéricas\\n\", fontsize = 15)\n",
    "plt.show()"
   ]
  },
  {
   "cell_type": "markdown",
   "id": "56360f0f-52b6-4841-954b-220c8c7e19de",
   "metadata": {},
   "source": [
    "**Tabela de correlação**"
   ]
  },
  {
   "cell_type": "code",
   "execution_count": null,
   "id": "d61dbed0-1630-4397-9245-d465e0b943d4",
   "metadata": {},
   "outputs": [],
   "source": [
    "#Tabela de correlação\n",
    "tabela_correlacao_spearman = df_numerical.corr(method='spearman') #Não preciso assumir uma relação linear entre as variáveis e não tem hipótese sobre a distribuição normal\n",
    "tabela_correlacao_spearman #A variável AREA tem a maior correlação com preço."
   ]
  },
  {
   "cell_type": "markdown",
   "id": "60d8293f-3278-4eb4-9250-f92268b98ac0",
   "metadata": {},
   "source": [
    "2. **Scatter Plot** (Gráfico de Dispersão)"
   ]
  },
  {
   "cell_type": "code",
   "execution_count": null,
   "id": "8e6599e4-f00a-4bb6-9362-9772daafcf7f",
   "metadata": {},
   "outputs": [],
   "source": [
    "#Scatter plot\n",
    "plt.scatter(df.AREA, df.PRECO)\n",
    "\n",
    "#Adicionar rótulos aos eixos\n",
    "plt.xlabel('Área do imóvel')\n",
    "plt.ylabel('Preço do imóvel')\n",
    "\n",
    "#Adicionar título ao gráfico\n",
    "plt.suptitle('Reção entre Área vs Preço', fontweight='bold', x=0.1)\n",
    "\n",
    "#Remover linhas de grade\n",
    "plt.grid(False)\n",
    "\n",
    "#Remover notação científica do eixo y\n",
    "plt.ticklabel_format(style='plain', axis='y')\n",
    "\n",
    "#Exibir o gráfico\n",
    "plt.show()"
   ]
  },
  {
   "cell_type": "markdown",
   "id": "ca1b9828-cda7-45c1-a148-b787da1b2580",
   "metadata": {},
   "source": [
    "#### Análise adicional (feature engineering)\n",
    "\n",
    "* Criar uma variável a partir de uma existente. Posteriormente, compará-la com o ALVO.\n",
    "* Vou criar a variável chamada **DECIL_AREA**."
   ]
  },
  {
   "cell_type": "code",
   "execution_count": null,
   "id": "a1f5701e-2ca7-4c0e-8e50-e3767795eb9c",
   "metadata": {},
   "outputs": [],
   "source": [
    "#Variável que vai calcular os decis da variável AREA\n",
    "decis_area = pd.qcut(df['AREA'], q=10)\n",
    "#Adicionar a variável DECIL_AREA\n",
    "df['DECIL_AREA'] = decis_area"
   ]
  },
  {
   "cell_type": "code",
   "execution_count": null,
   "id": "ccb62724-126f-4304-b7c5-57bb1d8c1a3d",
   "metadata": {},
   "outputs": [],
   "source": [
    "#Calcular o preço médio do imóvel para cada faixa de decil da área\n",
    "preco_medio_por_decil = df.groupby('DECIL_AREA')['PRECO'].mean()\n",
    "preco_medio_por_decil #Transformou uma variável quantitativa numa variável qualitativa"
   ]
  },
  {
   "cell_type": "code",
   "execution_count": null,
   "id": "64ced4df-a789-4a5f-a1a1-756b784f6353",
   "metadata": {},
   "outputs": [],
   "source": [
    "#Visualização final do data frame\n",
    "df.head(3) #Temos uma nova coluna"
   ]
  },
  {
   "cell_type": "markdown",
   "id": "4e8c17a3-6336-4de5-92ba-192dc2bc7ecc",
   "metadata": {},
   "source": [
    "# 3 - Modelagem (PyCaret)"
   ]
  },
  {
   "cell_type": "markdown",
   "id": "b0de35ea-a918-42a8-9153-5ac4c0bcc8da",
   "metadata": {},
   "source": [
    "## 3.1 - Setup\n",
    "\n",
    "* Esta função tem vários parâmetros e, de forma geral, ela prepara o ambiente de modelagem e carrega os dados para o treinamento do modelo."
   ]
  },
  {
   "cell_type": "code",
   "execution_count": null,
   "id": "1da4fbe2-8705-4930-9b32-3b0a51e56097",
   "metadata": {},
   "outputs": [],
   "source": [
    "exp = setup(df, target = 'PRECO', session_id = 1935, train_size = 0.65, ignore_features=['DECIL_AREA'],\n",
    "            normalize = True, normalize_method = 'robust', numeric_imputation = 'median',\n",
    "            categorical_imputation = 'mode', encoding_method= None, experiment_name= \"EXP_REGRESSAO\")"
   ]
  },
  {
   "cell_type": "code",
   "execution_count": null,
   "id": "1c981b53-eef0-4fb0-859d-024c5efa5777",
   "metadata": {},
   "outputs": [],
   "source": [
    "#Base de treino transformada\n",
    "X = get_config('X_train_transformed')\n",
    "X"
   ]
  },
  {
   "cell_type": "code",
   "execution_count": null,
   "id": "e0e9811a-c969-456c-bf94-1350a883fe7c",
   "metadata": {},
   "outputs": [],
   "source": [
    "#Base de teste\n",
    "df_teste = get_config('test')\n",
    "#Visualização\n",
    "df_teste.head(3)"
   ]
  },
  {
   "cell_type": "markdown",
   "id": "dfe8491e-ccca-42a1-8b68-86ff76ea40f3",
   "metadata": {},
   "source": [
    "## 3.2 - Compare models\n",
    "\n",
    "* Esta função treina e avalia o desempenho de todos os estimadores disponíveis através da abordagem do cross-validation."
   ]
  },
  {
   "cell_type": "code",
   "execution_count": null,
   "id": "153bc4a0-3c70-456c-abb5-d5bcfa12ed3d",
   "metadata": {},
   "outputs": [],
   "source": [
    "compare_models()"
   ]
  },
  {
   "cell_type": "markdown",
   "id": "08b1b00f-3a4e-4df1-852e-7ee5aa4bd0e9",
   "metadata": {},
   "source": [
    "### 3.2.1 - KPI: MAPE (Erro Médio Percentual Absoluto)\n",
    "\n",
    "#### Explicação \n",
    "\n",
    "* o MAPE indica, em média, o quão distantes estão as previsões dos valores reais, em termos percentuais. Quanto menor o valor do MAPE, mais precisa é a previsão. Por exemplo, um MAPE de 5% indica que, em média, as previsões estão, em média, a 5% dos valores reais (seja para mais ou menos).\n",
    "\n",
    "#### Estratégia\n",
    "\n",
    "* Escolher os três modelos com o menor MAPE no cross-validação e avaliá-los na base de teste. Posteriormente, selecionar o modelo com o menor MAPE da base de teste.\n",
    "\n",
    "#### Fórmula\n",
    "\n",
    "**MAPE** = (1/n) * Σ(|(A - F) / A|) * 100\n",
    "\n",
    "#### Notação\n",
    "\n",
    "* A é o valor real;\n",
    "* F é o valor previsto;\n",
    "* n é o número total de observações na amostra,\n",
    "* Σ representa a soma sobre todas as observações,\n",
    "* | | representa o valor absoluto.\n",
    "\n"
   ]
  },
  {
   "cell_type": "markdown",
   "id": "186e782f-886e-448c-97c0-7e80bb9d0c1d",
   "metadata": {},
   "source": [
    "## 3.3 - Create model\n",
    "\n",
    "* Esta função treina e avalia o desempenho de um determinado estimador utilizando a abordagem do cross-validation."
   ]
  },
  {
   "cell_type": "markdown",
   "id": "9fe31369-0247-4f1d-bd10-ef0f667cc69f",
   "metadata": {},
   "source": [
    "**Regressão Ridge**"
   ]
  },
  {
   "cell_type": "code",
   "execution_count": null,
   "id": "7e52ca97-9d8a-4621-b3ab-2ebfe8eb2c40",
   "metadata": {},
   "outputs": [],
   "source": [
    "#Resultado da base de treino\n",
    "model_1 = create_model('ridge') #Na base de treino se aplica o cross validação\n",
    "model_1"
   ]
  },
  {
   "cell_type": "code",
   "execution_count": null,
   "id": "79581405-ee2b-4e4c-ba1d-021c01e919f3",
   "metadata": {},
   "outputs": [],
   "source": [
    "#Avaliar o modelo na base de teste\n",
    "df_teste_1 = predict_model(model_1, data = df_teste)\n",
    "#Visualização\n",
    "df_teste_1.head(3)"
   ]
  },
  {
   "cell_type": "code",
   "execution_count": null,
   "id": "8c0ee73f-b1cb-4fdd-bdcd-297f67f2cf65",
   "metadata": {},
   "outputs": [],
   "source": [
    "mape_1 = mean_absolute_percentage_error(df_teste_1.PRECO, df_teste_1.prediction_label)\n",
    "print(\"MAPE:\", round(100 * mape_1,2)) #MAPE: 19.06"
   ]
  },
  {
   "cell_type": "markdown",
   "id": "2951e324-7e94-420b-a784-d17c780356ae",
   "metadata": {},
   "source": [
    "**Regressão Linear**"
   ]
  },
  {
   "cell_type": "code",
   "execution_count": null,
   "id": "fa0b503e-2f88-42a5-8d0d-2c890ff70163",
   "metadata": {},
   "outputs": [],
   "source": [
    "model_2 = create_model('lr') \n",
    "model_2"
   ]
  },
  {
   "cell_type": "code",
   "execution_count": null,
   "id": "35e37a00-7ee1-4bbb-ab39-47858d12501d",
   "metadata": {},
   "outputs": [],
   "source": [
    "#Avaliar o modelo na base de teste\n",
    "df_teste_2 = predict_model(model_2, data = df_teste)\n",
    "#Visualização\n",
    "df_teste_2.head(3)"
   ]
  },
  {
   "cell_type": "code",
   "execution_count": null,
   "id": "763e04e3-5743-44b9-a62d-2e109cd38c6e",
   "metadata": {},
   "outputs": [],
   "source": [
    "mape_2 = mean_absolute_percentage_error(df_teste_2.PRECO, df_teste_2.prediction_label)\n",
    "print(\"MAPE:\", round(100 * mape_2,2)) #MAPE: 19.07"
   ]
  },
  {
   "cell_type": "markdown",
   "id": "30eed202-f644-434b-aeb7-76694e3b126e",
   "metadata": {},
   "source": [
    "**K Neighbors Regressor**"
   ]
  },
  {
   "cell_type": "code",
   "execution_count": null,
   "id": "8703d50d-4f73-45ca-85c5-5d207b43ef5d",
   "metadata": {},
   "outputs": [],
   "source": [
    "model_3 = create_model('knn') \n",
    "model_3"
   ]
  },
  {
   "cell_type": "code",
   "execution_count": null,
   "id": "3b19d15a-f458-432e-b817-b5a6d4a94ac5",
   "metadata": {},
   "outputs": [],
   "source": [
    "#Avaliar o modelo na base de teste\n",
    "df_teste_3 = predict_model(model_3, data = df_teste)\n",
    "#Visualização\n",
    "df_teste_3.head(3) "
   ]
  },
  {
   "cell_type": "code",
   "execution_count": null,
   "id": "7758346b-e37f-4a20-b760-6b97daa66cb1",
   "metadata": {},
   "outputs": [],
   "source": [
    "mape_3 = mean_absolute_percentage_error(df_teste_3.PRECO, df_teste_3.prediction_label)\n",
    "print(\"MAPE:\", round(100 * mape_3,2)) #MAPE: 20.01"
   ]
  },
  {
   "cell_type": "markdown",
   "id": "c1fbab9c-1584-4cd9-b860-e3c754818582",
   "metadata": {},
   "source": [
    "## 3.4 - Tune model (opcional)\n",
    "\n",
    "* Esta função visa encontrar uma nova combinação de hiperparâmetros que possa melhorar a performance do modelo.\n",
    "* O melhor modelo foi o ridge."
   ]
  },
  {
   "cell_type": "code",
   "execution_count": null,
   "id": "1af6076f-1804-4d16-a3e5-aa902b03d7b2",
   "metadata": {},
   "outputs": [],
   "source": [
    "tune_model_1 = tune_model(model_1, optimize = 'MAPE', search_library = 'optuna')"
   ]
  },
  {
   "cell_type": "code",
   "execution_count": null,
   "id": "5e0dc7d0-3d52-47fd-b834-3c2ef67502c6",
   "metadata": {},
   "outputs": [],
   "source": [
    "#Avaliar o modelo tunado na base de teste\n",
    "df_teste_tune = predict_model(tune_model_1, data = df_teste)\n",
    "#Visualização\n",
    "df_teste_tune.head(3) #MAPE: 0.1903"
   ]
  },
  {
   "cell_type": "code",
   "execution_count": null,
   "id": "c1aa7183-6214-4bdc-a0c3-56ed6cdf8c73",
   "metadata": {},
   "outputs": [],
   "source": [
    "mape_final = mean_absolute_percentage_error(df_teste_tune.PRECO, df_teste_tune.prediction_label)\n",
    "print(\"MAPE:\", round(100 * mape_final,2)) #MAPE: 19.03"
   ]
  },
  {
   "cell_type": "code",
   "execution_count": null,
   "id": "cef3cc6f-c4e8-4d85-a315-8efa9bb5fdaa",
   "metadata": {},
   "outputs": [],
   "source": [
    "#Hiperparâmetro\n",
    "print(tune_model_1) #alpha=9.971098594042168"
   ]
  },
  {
   "cell_type": "markdown",
   "id": "72ea5175-d000-44d1-a7b6-6103e716b3ac",
   "metadata": {},
   "source": [
    "## 3.5 - Avaliação de desempenho"
   ]
  },
  {
   "cell_type": "code",
   "execution_count": null,
   "id": "5eec57fd-8139-47ae-968f-497e2fbcc54f",
   "metadata": {},
   "outputs": [],
   "source": [
    "#Panorama geral dos resultados\n",
    "evaluate_model(tune_model_1)"
   ]
  },
  {
   "cell_type": "code",
   "execution_count": null,
   "id": "42ca414e-d56d-4a2e-ad2e-17a2cdc05910",
   "metadata": {},
   "outputs": [],
   "source": [
    "#Top 10 variáveis\n",
    "plot_model(tune_model_1, plot = 'feature', save=True)"
   ]
  },
  {
   "cell_type": "code",
   "execution_count": null,
   "id": "7c0171c1-93d3-41b4-925f-cdbe62e43986",
   "metadata": {},
   "outputs": [],
   "source": [
    "#Ordem de importância de todas as variáveis\n",
    "plot_model(tune_model_1, plot = 'feature_all', save=True)"
   ]
  },
  {
   "cell_type": "code",
   "execution_count": null,
   "id": "0a3636f6-059f-4fc8-8007-09c525058814",
   "metadata": {},
   "outputs": [],
   "source": [
    "#Criar um data frame do feature importance\n",
    "feature_importance = tune_model_1.coef_\n",
    "feature_names = X.columns\n",
    "feature_importance_dict = dict(zip(feature_names, feature_importance))\n",
    "sorted_feature_importance = sorted(feature_importance_dict.items(), key=lambda x: x[1], reverse=True)\n",
    "df_importance = pd.DataFrame(sorted_feature_importance, columns=['Feature', 'Importance'])\n",
    "df_importance.to_csv(\"feature_importance.csv\", sep=\";\")\n",
    "df_importance\n"
   ]
  },
  {
   "cell_type": "code",
   "execution_count": null,
   "id": "c2c7d04f-79a6-4a2c-bbc2-d1fc589c6d40",
   "metadata": {},
   "outputs": [],
   "source": [
    "#Intercepto estimado\n",
    "tune_model_1.intercept_ #3823378.2973213797"
   ]
  },
  {
   "cell_type": "code",
   "execution_count": null,
   "id": "6a08642d-fed6-42b3-8347-33f3bd9e24f8",
   "metadata": {},
   "outputs": [],
   "source": [
    "#Salvar o erro\n",
    "plot_model(tune_model_1, plot = 'error', save=True)"
   ]
  },
  {
   "cell_type": "code",
   "execution_count": null,
   "id": "169ecd93-81a3-4075-8188-d2aafa82c115",
   "metadata": {},
   "outputs": [],
   "source": [
    "#Salvar os resíduos\n",
    "plot_model(tune_model_1, plot = 'residuals', save=True)"
   ]
  },
  {
   "cell_type": "code",
   "execution_count": null,
   "id": "32530606-792d-4660-891f-b669643c4599",
   "metadata": {},
   "outputs": [],
   "source": [
    "#Pipeline da modelagem\n",
    "plot_model(tune_model_1, plot = 'pipeline', save=True)"
   ]
  },
  {
   "cell_type": "markdown",
   "id": "18e077c6-ec64-43bd-b386-0f1e0dd5efc9",
   "metadata": {},
   "source": [
    "## 3.6 - Salvar e extrair os resultados"
   ]
  },
  {
   "cell_type": "markdown",
   "id": "2abe2228-25e5-49f6-b838-f3cf8eded945",
   "metadata": {},
   "source": [
    "**Resultados da base de teste**"
   ]
  },
  {
   "cell_type": "code",
   "execution_count": null,
   "id": "1e065eb1-ddd0-4839-8bf3-c3198e3c87dc",
   "metadata": {},
   "outputs": [],
   "source": [
    "df_teste_final = predict_model(tune_model_1, data = df_teste)\n",
    "#Visualização\n",
    "df_teste_final.head(3) "
   ]
  },
  {
   "cell_type": "code",
   "execution_count": null,
   "id": "f59c8252-0397-4c09-bf40-e3351e980af7",
   "metadata": {},
   "outputs": [],
   "source": [
    "df_teste_final.rename(columns = {'prediction_label':'PRECO_ESTIMADO'}, inplace = True)"
   ]
  },
  {
   "cell_type": "code",
   "execution_count": null,
   "id": "fd57eefa-f3d4-4e33-8585-1702c21c0033",
   "metadata": {},
   "outputs": [],
   "source": [
    "teste_final = df_teste_final[['PRECO','PRECO_ESTIMADO']]\n",
    "#Visualização final\n",
    "teste_final.head(3)"
   ]
  },
  {
   "cell_type": "code",
   "execution_count": null,
   "id": "b4e3fc40-b30e-455e-a309-77d329f7e7ff",
   "metadata": {},
   "outputs": [],
   "source": [
    "#Salvar a base de teste\n",
    "teste_final.to_csv('base_teste_final.csv', header = True, index = False, sep = ';')"
   ]
  },
  {
   "cell_type": "markdown",
   "id": "7f65433e-221b-46cb-8227-0049b4668c32",
   "metadata": {},
   "source": [
    "**Salvar a base full**"
   ]
  },
  {
   "cell_type": "code",
   "execution_count": null,
   "id": "3c8addee-37ca-4106-95b7-1dc361f0e4c4",
   "metadata": {},
   "outputs": [],
   "source": [
    "df_full_final = predict_model(tune_model_1, data = df)\n",
    "#Visualização\n",
    "df_full_final.head(3) "
   ]
  },
  {
   "cell_type": "code",
   "execution_count": null,
   "id": "41b3cdf7-f081-45ba-bce3-43f10e31175f",
   "metadata": {},
   "outputs": [],
   "source": [
    "df_full_final.rename(columns = {'prediction_label':'PRECO_ESTIMADO'}, inplace = True)"
   ]
  },
  {
   "cell_type": "code",
   "execution_count": null,
   "id": "22ad4bfc-6ad3-41fa-af85-75f543247ddb",
   "metadata": {},
   "outputs": [],
   "source": [
    "full_final = df_full_final[['PRECO','PRECO_ESTIMADO']]\n",
    "#Visualização final\n",
    "full_final.head(3)"
   ]
  },
  {
   "cell_type": "code",
   "execution_count": null,
   "id": "02f16cde-ccc8-4313-9089-6a23fe7ad8cf",
   "metadata": {},
   "outputs": [],
   "source": [
    "#Salvar a base de teste\n",
    "full_final.to_csv('base_full_final.csv', header = True, index = False, sep = ';')"
   ]
  },
  {
   "cell_type": "markdown",
   "id": "49317936-cfb2-495f-a49b-b54c68cbbcca",
   "metadata": {},
   "source": [
    "## 3.7 - Concluir o experimento"
   ]
  },
  {
   "cell_type": "code",
   "execution_count": null,
   "id": "a37295ff-d68f-4ba9-9103-a4e1c2018032",
   "metadata": {},
   "outputs": [],
   "source": [
    "save_model(tune_model_1, 'predicao_preco_imovel')"
   ]
  },
  {
   "cell_type": "markdown",
   "id": "554b68cc-f6de-4d51-a2d5-19923c70d671",
   "metadata": {},
   "source": [
    "## 3.8 - Finalize model"
   ]
  },
  {
   "cell_type": "code",
   "execution_count": null,
   "id": "932026fd-470b-47d7-8b5b-60f6e286712c",
   "metadata": {},
   "outputs": [],
   "source": [
    "final_model = finalize_model(tune_model_1)\n",
    "final_model"
   ]
  },
  {
   "cell_type": "code",
   "execution_count": null,
   "id": "54d93417-9297-4575-ae6a-51253be00ad7",
   "metadata": {},
   "outputs": [],
   "source": []
  }
 ],
 "metadata": {
  "kernelspec": {
   "display_name": "Python 3 (ipykernel)",
   "language": "python",
   "name": "python3"
  },
  "language_info": {
   "codemirror_mode": {
    "name": "ipython",
    "version": 3
   },
   "file_extension": ".py",
   "mimetype": "text/x-python",
   "name": "python",
   "nbconvert_exporter": "python",
   "pygments_lexer": "ipython3",
   "version": "3.11.8"
  }
 },
 "nbformat": 4,
 "nbformat_minor": 5
}
